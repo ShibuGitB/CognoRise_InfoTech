{
  "cells": [
    {
      "cell_type": "markdown",
      "metadata": {
        "id": "view-in-github",
        "colab_type": "text"
      },
      "source": [
        "<a href=\"https://colab.research.google.com/github/ShibuGitB/CognoRise_InfoTech/blob/main/Task_2_CognoRise_Infotech.ipynb\" target=\"_parent\"><img src=\"https://colab.research.google.com/assets/colab-badge.svg\" alt=\"Open In Colab\"/></a>"
      ]
    },
    {
      "cell_type": "markdown",
      "source": [
        "***Importing Necessary Packages***"
      ],
      "metadata": {
        "id": "f0bUQi52uY5Q"
      }
    },
    {
      "cell_type": "code",
      "execution_count": null,
      "metadata": {
        "id": "g_zQ9Wc_YUE2"
      },
      "outputs": [],
      "source": [
        "import pandas as pd\n",
        "import nltk\n",
        "from nltk import TweetTokenizer\n",
        "from nltk.corpus import stopwords\n",
        "from nltk.stem import SnowballStemmer\n",
        "from sklearn.feature_extraction.text import TfidfVectorizer\n",
        "from sklearn.preprocessing import LabelEncoder\n",
        "from sklearn.model_selection import train_test_split\n",
        "from sklearn.neighbors import KNeighborsClassifier\n",
        "from sklearn.metrics import accuracy_score\n",
        "from sklearn.svm import SVC\n",
        "from sklearn.tree import DecisionTreeClassifier\n",
        "from sklearn.ensemble import RandomForestClassifier\n",
        "from sklearn.ensemble import AdaBoostClassifier\n",
        "from xgboost import XGBClassifier\n",
        "from sklearn.metrics import ConfusionMatrixDisplay\n",
        "from sklearn.metrics import classification_report\n",
        "import matplotlib.pyplot as plt"
      ]
    },
    {
      "cell_type": "markdown",
      "source": [
        "***Dataset***"
      ],
      "metadata": {
        "id": "pUEmD1n7uhea"
      }
    },
    {
      "cell_type": "code",
      "execution_count": null,
      "metadata": {
        "colab": {
          "base_uri": "https://localhost:8080/",
          "height": 423
        },
        "id": "ff62GmgdYoU2",
        "outputId": "597e1522-289e-48a4-8fc1-dcd530940c1a"
      },
      "outputs": [
        {
          "output_type": "execute_result",
          "data": {
            "text/plain": [
              "                                                  review sentiment\n",
              "0      One of the other reviewers has mentioned that ...  positive\n",
              "1      A wonderful little production. <br /><br />The...  positive\n",
              "2      I thought this was a wonderful way to spend ti...  positive\n",
              "3      Basically there's a family where a little boy ...  negative\n",
              "4      Petter Mattei's \"Love in the Time of Money\" is...  positive\n",
              "...                                                  ...       ...\n",
              "24995  This movie was a real torture fest to sit thro...  negative\n",
              "24996  John Wayne & Albert Dekker compete for oil rig...  negative\n",
              "24997  Tarantino once remarked on a melodrama from th...  positive\n",
              "24998  Aah yes the workout show was a great. Not only...  positive\n",
              "24999  This film should have never been made. Honestl...  negative\n",
              "\n",
              "[25000 rows x 2 columns]"
            ],
            "text/html": [
              "\n",
              "  <div id=\"df-10f91e85-28d9-44a0-a3c0-e0fa2bbb95b8\" class=\"colab-df-container\">\n",
              "    <div>\n",
              "<style scoped>\n",
              "    .dataframe tbody tr th:only-of-type {\n",
              "        vertical-align: middle;\n",
              "    }\n",
              "\n",
              "    .dataframe tbody tr th {\n",
              "        vertical-align: top;\n",
              "    }\n",
              "\n",
              "    .dataframe thead th {\n",
              "        text-align: right;\n",
              "    }\n",
              "</style>\n",
              "<table border=\"1\" class=\"dataframe\">\n",
              "  <thead>\n",
              "    <tr style=\"text-align: right;\">\n",
              "      <th></th>\n",
              "      <th>review</th>\n",
              "      <th>sentiment</th>\n",
              "    </tr>\n",
              "  </thead>\n",
              "  <tbody>\n",
              "    <tr>\n",
              "      <th>0</th>\n",
              "      <td>One of the other reviewers has mentioned that ...</td>\n",
              "      <td>positive</td>\n",
              "    </tr>\n",
              "    <tr>\n",
              "      <th>1</th>\n",
              "      <td>A wonderful little production. &lt;br /&gt;&lt;br /&gt;The...</td>\n",
              "      <td>positive</td>\n",
              "    </tr>\n",
              "    <tr>\n",
              "      <th>2</th>\n",
              "      <td>I thought this was a wonderful way to spend ti...</td>\n",
              "      <td>positive</td>\n",
              "    </tr>\n",
              "    <tr>\n",
              "      <th>3</th>\n",
              "      <td>Basically there's a family where a little boy ...</td>\n",
              "      <td>negative</td>\n",
              "    </tr>\n",
              "    <tr>\n",
              "      <th>4</th>\n",
              "      <td>Petter Mattei's \"Love in the Time of Money\" is...</td>\n",
              "      <td>positive</td>\n",
              "    </tr>\n",
              "    <tr>\n",
              "      <th>...</th>\n",
              "      <td>...</td>\n",
              "      <td>...</td>\n",
              "    </tr>\n",
              "    <tr>\n",
              "      <th>24995</th>\n",
              "      <td>This movie was a real torture fest to sit thro...</td>\n",
              "      <td>negative</td>\n",
              "    </tr>\n",
              "    <tr>\n",
              "      <th>24996</th>\n",
              "      <td>John Wayne &amp; Albert Dekker compete for oil rig...</td>\n",
              "      <td>negative</td>\n",
              "    </tr>\n",
              "    <tr>\n",
              "      <th>24997</th>\n",
              "      <td>Tarantino once remarked on a melodrama from th...</td>\n",
              "      <td>positive</td>\n",
              "    </tr>\n",
              "    <tr>\n",
              "      <th>24998</th>\n",
              "      <td>Aah yes the workout show was a great. Not only...</td>\n",
              "      <td>positive</td>\n",
              "    </tr>\n",
              "    <tr>\n",
              "      <th>24999</th>\n",
              "      <td>This film should have never been made. Honestl...</td>\n",
              "      <td>negative</td>\n",
              "    </tr>\n",
              "  </tbody>\n",
              "</table>\n",
              "<p>25000 rows × 2 columns</p>\n",
              "</div>\n",
              "    <div class=\"colab-df-buttons\">\n",
              "\n",
              "  <div class=\"colab-df-container\">\n",
              "    <button class=\"colab-df-convert\" onclick=\"convertToInteractive('df-10f91e85-28d9-44a0-a3c0-e0fa2bbb95b8')\"\n",
              "            title=\"Convert this dataframe to an interactive table.\"\n",
              "            style=\"display:none;\">\n",
              "\n",
              "  <svg xmlns=\"http://www.w3.org/2000/svg\" height=\"24px\" viewBox=\"0 -960 960 960\">\n",
              "    <path d=\"M120-120v-720h720v720H120Zm60-500h600v-160H180v160Zm220 220h160v-160H400v160Zm0 220h160v-160H400v160ZM180-400h160v-160H180v160Zm440 0h160v-160H620v160ZM180-180h160v-160H180v160Zm440 0h160v-160H620v160Z\"/>\n",
              "  </svg>\n",
              "    </button>\n",
              "\n",
              "  <style>\n",
              "    .colab-df-container {\n",
              "      display:flex;\n",
              "      gap: 12px;\n",
              "    }\n",
              "\n",
              "    .colab-df-convert {\n",
              "      background-color: #E8F0FE;\n",
              "      border: none;\n",
              "      border-radius: 50%;\n",
              "      cursor: pointer;\n",
              "      display: none;\n",
              "      fill: #1967D2;\n",
              "      height: 32px;\n",
              "      padding: 0 0 0 0;\n",
              "      width: 32px;\n",
              "    }\n",
              "\n",
              "    .colab-df-convert:hover {\n",
              "      background-color: #E2EBFA;\n",
              "      box-shadow: 0px 1px 2px rgba(60, 64, 67, 0.3), 0px 1px 3px 1px rgba(60, 64, 67, 0.15);\n",
              "      fill: #174EA6;\n",
              "    }\n",
              "\n",
              "    .colab-df-buttons div {\n",
              "      margin-bottom: 4px;\n",
              "    }\n",
              "\n",
              "    [theme=dark] .colab-df-convert {\n",
              "      background-color: #3B4455;\n",
              "      fill: #D2E3FC;\n",
              "    }\n",
              "\n",
              "    [theme=dark] .colab-df-convert:hover {\n",
              "      background-color: #434B5C;\n",
              "      box-shadow: 0px 1px 3px 1px rgba(0, 0, 0, 0.15);\n",
              "      filter: drop-shadow(0px 1px 2px rgba(0, 0, 0, 0.3));\n",
              "      fill: #FFFFFF;\n",
              "    }\n",
              "  </style>\n",
              "\n",
              "    <script>\n",
              "      const buttonEl =\n",
              "        document.querySelector('#df-10f91e85-28d9-44a0-a3c0-e0fa2bbb95b8 button.colab-df-convert');\n",
              "      buttonEl.style.display =\n",
              "        google.colab.kernel.accessAllowed ? 'block' : 'none';\n",
              "\n",
              "      async function convertToInteractive(key) {\n",
              "        const element = document.querySelector('#df-10f91e85-28d9-44a0-a3c0-e0fa2bbb95b8');\n",
              "        const dataTable =\n",
              "          await google.colab.kernel.invokeFunction('convertToInteractive',\n",
              "                                                    [key], {});\n",
              "        if (!dataTable) return;\n",
              "\n",
              "        const docLinkHtml = 'Like what you see? Visit the ' +\n",
              "          '<a target=\"_blank\" href=https://colab.research.google.com/notebooks/data_table.ipynb>data table notebook</a>'\n",
              "          + ' to learn more about interactive tables.';\n",
              "        element.innerHTML = '';\n",
              "        dataTable['output_type'] = 'display_data';\n",
              "        await google.colab.output.renderOutput(dataTable, element);\n",
              "        const docLink = document.createElement('div');\n",
              "        docLink.innerHTML = docLinkHtml;\n",
              "        element.appendChild(docLink);\n",
              "      }\n",
              "    </script>\n",
              "  </div>\n",
              "\n",
              "\n",
              "<div id=\"df-04c5ef21-13ea-4a13-937f-4c48ac4234d6\">\n",
              "  <button class=\"colab-df-quickchart\" onclick=\"quickchart('df-04c5ef21-13ea-4a13-937f-4c48ac4234d6')\"\n",
              "            title=\"Suggest charts\"\n",
              "            style=\"display:none;\">\n",
              "\n",
              "<svg xmlns=\"http://www.w3.org/2000/svg\" height=\"24px\"viewBox=\"0 0 24 24\"\n",
              "     width=\"24px\">\n",
              "    <g>\n",
              "        <path d=\"M19 3H5c-1.1 0-2 .9-2 2v14c0 1.1.9 2 2 2h14c1.1 0 2-.9 2-2V5c0-1.1-.9-2-2-2zM9 17H7v-7h2v7zm4 0h-2V7h2v10zm4 0h-2v-4h2v4z\"/>\n",
              "    </g>\n",
              "</svg>\n",
              "  </button>\n",
              "\n",
              "<style>\n",
              "  .colab-df-quickchart {\n",
              "      --bg-color: #E8F0FE;\n",
              "      --fill-color: #1967D2;\n",
              "      --hover-bg-color: #E2EBFA;\n",
              "      --hover-fill-color: #174EA6;\n",
              "      --disabled-fill-color: #AAA;\n",
              "      --disabled-bg-color: #DDD;\n",
              "  }\n",
              "\n",
              "  [theme=dark] .colab-df-quickchart {\n",
              "      --bg-color: #3B4455;\n",
              "      --fill-color: #D2E3FC;\n",
              "      --hover-bg-color: #434B5C;\n",
              "      --hover-fill-color: #FFFFFF;\n",
              "      --disabled-bg-color: #3B4455;\n",
              "      --disabled-fill-color: #666;\n",
              "  }\n",
              "\n",
              "  .colab-df-quickchart {\n",
              "    background-color: var(--bg-color);\n",
              "    border: none;\n",
              "    border-radius: 50%;\n",
              "    cursor: pointer;\n",
              "    display: none;\n",
              "    fill: var(--fill-color);\n",
              "    height: 32px;\n",
              "    padding: 0;\n",
              "    width: 32px;\n",
              "  }\n",
              "\n",
              "  .colab-df-quickchart:hover {\n",
              "    background-color: var(--hover-bg-color);\n",
              "    box-shadow: 0 1px 2px rgba(60, 64, 67, 0.3), 0 1px 3px 1px rgba(60, 64, 67, 0.15);\n",
              "    fill: var(--button-hover-fill-color);\n",
              "  }\n",
              "\n",
              "  .colab-df-quickchart-complete:disabled,\n",
              "  .colab-df-quickchart-complete:disabled:hover {\n",
              "    background-color: var(--disabled-bg-color);\n",
              "    fill: var(--disabled-fill-color);\n",
              "    box-shadow: none;\n",
              "  }\n",
              "\n",
              "  .colab-df-spinner {\n",
              "    border: 2px solid var(--fill-color);\n",
              "    border-color: transparent;\n",
              "    border-bottom-color: var(--fill-color);\n",
              "    animation:\n",
              "      spin 1s steps(1) infinite;\n",
              "  }\n",
              "\n",
              "  @keyframes spin {\n",
              "    0% {\n",
              "      border-color: transparent;\n",
              "      border-bottom-color: var(--fill-color);\n",
              "      border-left-color: var(--fill-color);\n",
              "    }\n",
              "    20% {\n",
              "      border-color: transparent;\n",
              "      border-left-color: var(--fill-color);\n",
              "      border-top-color: var(--fill-color);\n",
              "    }\n",
              "    30% {\n",
              "      border-color: transparent;\n",
              "      border-left-color: var(--fill-color);\n",
              "      border-top-color: var(--fill-color);\n",
              "      border-right-color: var(--fill-color);\n",
              "    }\n",
              "    40% {\n",
              "      border-color: transparent;\n",
              "      border-right-color: var(--fill-color);\n",
              "      border-top-color: var(--fill-color);\n",
              "    }\n",
              "    60% {\n",
              "      border-color: transparent;\n",
              "      border-right-color: var(--fill-color);\n",
              "    }\n",
              "    80% {\n",
              "      border-color: transparent;\n",
              "      border-right-color: var(--fill-color);\n",
              "      border-bottom-color: var(--fill-color);\n",
              "    }\n",
              "    90% {\n",
              "      border-color: transparent;\n",
              "      border-bottom-color: var(--fill-color);\n",
              "    }\n",
              "  }\n",
              "</style>\n",
              "\n",
              "  <script>\n",
              "    async function quickchart(key) {\n",
              "      const quickchartButtonEl =\n",
              "        document.querySelector('#' + key + ' button');\n",
              "      quickchartButtonEl.disabled = true;  // To prevent multiple clicks.\n",
              "      quickchartButtonEl.classList.add('colab-df-spinner');\n",
              "      try {\n",
              "        const charts = await google.colab.kernel.invokeFunction(\n",
              "            'suggestCharts', [key], {});\n",
              "      } catch (error) {\n",
              "        console.error('Error during call to suggestCharts:', error);\n",
              "      }\n",
              "      quickchartButtonEl.classList.remove('colab-df-spinner');\n",
              "      quickchartButtonEl.classList.add('colab-df-quickchart-complete');\n",
              "    }\n",
              "    (() => {\n",
              "      let quickchartButtonEl =\n",
              "        document.querySelector('#df-04c5ef21-13ea-4a13-937f-4c48ac4234d6 button');\n",
              "      quickchartButtonEl.style.display =\n",
              "        google.colab.kernel.accessAllowed ? 'block' : 'none';\n",
              "    })();\n",
              "  </script>\n",
              "</div>\n",
              "\n",
              "  <div id=\"id_f4e4790e-e085-483f-93ac-196916a4f790\">\n",
              "    <style>\n",
              "      .colab-df-generate {\n",
              "        background-color: #E8F0FE;\n",
              "        border: none;\n",
              "        border-radius: 50%;\n",
              "        cursor: pointer;\n",
              "        display: none;\n",
              "        fill: #1967D2;\n",
              "        height: 32px;\n",
              "        padding: 0 0 0 0;\n",
              "        width: 32px;\n",
              "      }\n",
              "\n",
              "      .colab-df-generate:hover {\n",
              "        background-color: #E2EBFA;\n",
              "        box-shadow: 0px 1px 2px rgba(60, 64, 67, 0.3), 0px 1px 3px 1px rgba(60, 64, 67, 0.15);\n",
              "        fill: #174EA6;\n",
              "      }\n",
              "\n",
              "      [theme=dark] .colab-df-generate {\n",
              "        background-color: #3B4455;\n",
              "        fill: #D2E3FC;\n",
              "      }\n",
              "\n",
              "      [theme=dark] .colab-df-generate:hover {\n",
              "        background-color: #434B5C;\n",
              "        box-shadow: 0px 1px 3px 1px rgba(0, 0, 0, 0.15);\n",
              "        filter: drop-shadow(0px 1px 2px rgba(0, 0, 0, 0.3));\n",
              "        fill: #FFFFFF;\n",
              "      }\n",
              "    </style>\n",
              "    <button class=\"colab-df-generate\" onclick=\"generateWithVariable('dataset')\"\n",
              "            title=\"Generate code using this dataframe.\"\n",
              "            style=\"display:none;\">\n",
              "\n",
              "  <svg xmlns=\"http://www.w3.org/2000/svg\" height=\"24px\"viewBox=\"0 0 24 24\"\n",
              "       width=\"24px\">\n",
              "    <path d=\"M7,19H8.4L18.45,9,17,7.55,7,17.6ZM5,21V16.75L18.45,3.32a2,2,0,0,1,2.83,0l1.4,1.43a1.91,1.91,0,0,1,.58,1.4,1.91,1.91,0,0,1-.58,1.4L9.25,21ZM18.45,9,17,7.55Zm-12,3A5.31,5.31,0,0,0,4.9,8.1,5.31,5.31,0,0,0,1,6.5,5.31,5.31,0,0,0,4.9,4.9,5.31,5.31,0,0,0,6.5,1,5.31,5.31,0,0,0,8.1,4.9,5.31,5.31,0,0,0,12,6.5,5.46,5.46,0,0,0,6.5,12Z\"/>\n",
              "  </svg>\n",
              "    </button>\n",
              "    <script>\n",
              "      (() => {\n",
              "      const buttonEl =\n",
              "        document.querySelector('#id_f4e4790e-e085-483f-93ac-196916a4f790 button.colab-df-generate');\n",
              "      buttonEl.style.display =\n",
              "        google.colab.kernel.accessAllowed ? 'block' : 'none';\n",
              "\n",
              "      buttonEl.onclick = () => {\n",
              "        google.colab.notebook.generateWithVariable('dataset');\n",
              "      }\n",
              "      })();\n",
              "    </script>\n",
              "  </div>\n",
              "\n",
              "    </div>\n",
              "  </div>\n"
            ],
            "application/vnd.google.colaboratory.intrinsic+json": {
              "type": "dataframe",
              "variable_name": "dataset",
              "summary": "{\n  \"name\": \"dataset\",\n  \"rows\": 25000,\n  \"fields\": [\n    {\n      \"column\": \"review\",\n      \"properties\": {\n        \"dtype\": \"string\",\n        \"num_unique_values\": 24897,\n        \"samples\": [\n          \"There is an awful lot wrong with this picture, beginning with a script that is both obvious and redundant. Courtney Cox plays a comic book artist who escapes to a small desert town after being raped twice in the big city. She immediately is stalked by a local who appears quite unhinged (Craig Sheffer), and who seems to be attempting a third rate Mickey Rourke imitation. D.B. Sweeny is a local cop, who is supposedly there to protect and serve. Meanwhile, the script manipulates the audience as to who's really the good guy? Logic flies out the window after the first ten minutes and never returns, and there are more unanswered questions than there should be. If you think \\\"Blue Desert\\\" might be saved by the wonderful Philip Baker Hall, you will be disappointed. His part is insignificant, just like the entire movie. - MERK\",\n          \"This movie was SO stupid~!!! I could not bare to watch the rest of this movie..... To think that the spoiled bitch suggested to see other people, then walks right into another relationship 5 minutes after the agreement was made.... I really felt sorry for the guy, but then again, for a guy like that to even consider letting his fianc\\u00e9 see other people, to go along with her grand idea, well, I'm sorry but, he deserved what he got~! And she was definitely not the best fish in the sea either, he can do way, way, way better.... She had no tits.... to hips.... no nothing~! And you had to have known that she wanted this right from the start... 5 years~??? How on earth did they last that long~???\",\n          \"An art student in Rome is possessed...or something. She has dreams of being nailed to a cross and Satan himself raping her. He possesses her (I think) and turns her into a sex addict. That's about all I could take and I turned it off.<br /><br />A pointless \\\"Exorcist\\\" rip off. I caught this on cable back in the 80s and was horrified...and not in a good way! This movie is supposed to be a horror film but turns into nothing more than a sex film disguised as a horror movie. There's tons of pointless female nudity and the actress playing the lead has to degrade herself more than once. We see her being raped by Satan (a hot-looking guy), masturbating, coming on to her own father...Gotta give her points for bravery. Add to that bad dubbing, editing (the rape scene looks like it was cut a bit), lousy acting and a story that makes next to no sense. The one disturbing sequence (her being nailed to the cross) ALMOST works but the lousy \\\"special\\\" effects ruin it. This is one of the few horror film that was so bad I stopped watching. Skip it.\"\n        ],\n        \"semantic_type\": \"\",\n        \"description\": \"\"\n      }\n    },\n    {\n      \"column\": \"sentiment\",\n      \"properties\": {\n        \"dtype\": \"category\",\n        \"num_unique_values\": 2,\n        \"samples\": [\n          \"negative\",\n          \"positive\"\n        ],\n        \"semantic_type\": \"\",\n        \"description\": \"\"\n      }\n    }\n  ]\n}"
            }
          },
          "metadata": {},
          "execution_count": 3
        }
      ],
      "source": [
        "dataset=pd.read_csv(\"/content/drive/MyDrive/Task 2 CognoRise/IMDB Dataset.csv\",nrows=25000)\n",
        "dataset"
      ]
    },
    {
      "cell_type": "code",
      "source": [
        "dataset[\"sentiment\"].value_counts()"
      ],
      "metadata": {
        "colab": {
          "base_uri": "https://localhost:8080/"
        },
        "id": "yCMHuYskV0a_",
        "outputId": "0da45270-1b0a-4e6b-b52d-a61ee1550689"
      },
      "execution_count": null,
      "outputs": [
        {
          "output_type": "execute_result",
          "data": {
            "text/plain": [
              "sentiment\n",
              "negative    12526\n",
              "positive    12474\n",
              "Name: count, dtype: int64"
            ]
          },
          "metadata": {},
          "execution_count": 33
        }
      ]
    },
    {
      "cell_type": "markdown",
      "source": [
        "***Ratio of Positive & Negative Reviews***"
      ],
      "metadata": {
        "id": "DXqUEN6DW3Bx"
      }
    },
    {
      "cell_type": "code",
      "source": [
        "x=[12526,12474]\n",
        "y=[\"Negative\",\"Positive\"]\n",
        "\n",
        "plt.pie(x=x,labels=y)\n",
        "plt.legend()"
      ],
      "metadata": {
        "colab": {
          "base_uri": "https://localhost:8080/",
          "height": 424
        },
        "id": "-PUCdorwWDq4",
        "outputId": "91376813-0ccb-4658-e992-1a6375258b0d"
      },
      "execution_count": null,
      "outputs": [
        {
          "output_type": "execute_result",
          "data": {
            "text/plain": [
              "<matplotlib.legend.Legend at 0x7b911724f130>"
            ]
          },
          "metadata": {},
          "execution_count": 36
        },
        {
          "output_type": "display_data",
          "data": {
            "text/plain": [
              "<Figure size 640x480 with 1 Axes>"
            ],
            "image/png": "[encoded data removed]"
          },
          "metadata": {}
        }
      ]
    },
    {
      "cell_type": "markdown",
      "source": [
        "***Checking the Datatype of dataset Values***"
      ],
      "metadata": {
        "id": "1dpl6wl9ukA-"
      }
    },
    {
      "cell_type": "code",
      "execution_count": null,
      "metadata": {
        "colab": {
          "base_uri": "https://localhost:8080/"
        },
        "id": "hVoy9C-xY310",
        "outputId": "68f55eea-cc74-40c7-cd63-8cc72070d9bb"
      },
      "outputs": [
        {
          "output_type": "execute_result",
          "data": {
            "text/plain": [
              "review       object\n",
              "sentiment    object\n",
              "dtype: object"
            ]
          },
          "metadata": {},
          "execution_count": 4
        }
      ],
      "source": [
        "dataset.dtypes"
      ]
    },
    {
      "cell_type": "markdown",
      "source": [
        "***Checking is there any missing values or not***"
      ],
      "metadata": {
        "id": "eC8QSPfZurqn"
      }
    },
    {
      "cell_type": "code",
      "execution_count": null,
      "metadata": {
        "colab": {
          "base_uri": "https://localhost:8080/"
        },
        "id": "OdY-mE8XY8CN",
        "outputId": "710b0f16-b423-40e0-b14b-58135e5c7e47"
      },
      "outputs": [
        {
          "output_type": "execute_result",
          "data": {
            "text/plain": [
              "review       0\n",
              "sentiment    0\n",
              "dtype: int64"
            ]
          },
          "metadata": {},
          "execution_count": 5
        }
      ],
      "source": [
        "dataset.isna().sum()"
      ]
    },
    {
      "cell_type": "markdown",
      "source": [
        "***Taking Input***"
      ],
      "metadata": {
        "id": "CktvHOQ2uweN"
      }
    },
    {
      "cell_type": "code",
      "execution_count": null,
      "metadata": {
        "colab": {
          "base_uri": "https://localhost:8080/"
        },
        "id": "j5o0-0NzZbfw",
        "outputId": "19612afe-f0e2-4c73-a56d-cfbb9ea5027f"
      },
      "outputs": [
        {
          "output_type": "execute_result",
          "data": {
            "text/plain": [
              "0        One of the other reviewers has mentioned that ...\n",
              "1        A wonderful little production. <br /><br />The...\n",
              "2        I thought this was a wonderful way to spend ti...\n",
              "3        Basically there's a family where a little boy ...\n",
              "4        Petter Mattei's \"Love in the Time of Money\" is...\n",
              "                               ...                        \n",
              "24995    This movie was a real torture fest to sit thro...\n",
              "24996    John Wayne & Albert Dekker compete for oil rig...\n",
              "24997    Tarantino once remarked on a melodrama from th...\n",
              "24998    Aah yes the workout show was a great. Not only...\n",
              "24999    This film should have never been made. Honestl...\n",
              "Name: review, Length: 25000, dtype: object"
            ]
          },
          "metadata": {},
          "execution_count": 6
        }
      ],
      "source": [
        "input=dataset.iloc[:,0]\n",
        "input"
      ]
    },
    {
      "cell_type": "markdown",
      "source": [
        "***Applying Natural Language Processing to Input***"
      ],
      "metadata": {
        "id": "zANQATOuuz5O"
      }
    },
    {
      "cell_type": "code",
      "execution_count": null,
      "metadata": {
        "id": "hzp0BESUZqws"
      },
      "outputs": [],
      "source": [
        "input=input.str.replace(\"[a-zA-Z0-9 ]\",\"\")"
      ]
    },
    {
      "cell_type": "code",
      "execution_count": null,
      "metadata": {
        "id": "INgYlS_XZ0xB"
      },
      "outputs": [],
      "source": [
        "tokenizer=TweetTokenizer()"
      ]
    },
    {
      "cell_type": "code",
      "execution_count": null,
      "metadata": {
        "colab": {
          "base_uri": "https://localhost:8080/"
        },
        "id": "1IeH7Pz5Z8Cl",
        "outputId": "eb874f3b-8b31-42ea-c731-a5ba702f8387"
      },
      "outputs": [
        {
          "output_type": "stream",
          "name": "stderr",
          "text": [
            "[nltk_data] Downloading package stopwords to /root/nltk_data...\n",
            "[nltk_data]   Unzipping corpora/stopwords.zip.\n"
          ]
        }
      ],
      "source": [
        "nltk.download(\"stopwords\")\n",
        "stop=stopwords.words(\"english\")"
      ]
    },
    {
      "cell_type": "code",
      "execution_count": null,
      "metadata": {
        "id": "K1PWjEmEaTO9"
      },
      "outputs": [],
      "source": [
        "stemmer=SnowballStemmer(\"english\")"
      ]
    },
    {
      "cell_type": "code",
      "execution_count": null,
      "metadata": {
        "id": "7ocLuJRtalzV"
      },
      "outputs": [],
      "source": [
        "input=input.apply(lambda i:[stemmer.stem(j.lower()) for j in tokenizer.tokenize(i) if j not in stop]).apply(lambda j:\" \".join(j))"
      ]
    },
    {
      "cell_type": "code",
      "execution_count": null,
      "metadata": {
        "id": "Pvj0hHwSbri0"
      },
      "outputs": [],
      "source": [
        "vectorizer=TfidfVectorizer()\n",
        "vectorizer.fit(input)\n",
        "input=vectorizer.transform(input)"
      ]
    },
    {
      "cell_type": "markdown",
      "source": [
        "***Converting output natural language to numerical value by Label Encoder***"
      ],
      "metadata": {
        "id": "SwTfcdpyu7-h"
      }
    },
    {
      "cell_type": "code",
      "execution_count": null,
      "metadata": {
        "colab": {
          "base_uri": "https://localhost:8080/"
        },
        "id": "Sw4P_qINcCp-",
        "outputId": "c2ab6268-4598-4cd8-c771-b207e14e2cc9"
      },
      "outputs": [
        {
          "output_type": "execute_result",
          "data": {
            "text/plain": [
              "0        positive\n",
              "1        positive\n",
              "2        positive\n",
              "3        negative\n",
              "4        positive\n",
              "           ...   \n",
              "24995    negative\n",
              "24996    negative\n",
              "24997    positive\n",
              "24998    positive\n",
              "24999    negative\n",
              "Name: sentiment, Length: 25000, dtype: object"
            ]
          },
          "metadata": {},
          "execution_count": 13
        }
      ],
      "source": [
        "output=dataset.iloc[:,1]\n",
        "output"
      ]
    },
    {
      "cell_type": "code",
      "execution_count": null,
      "metadata": {
        "id": "MHi4seSdcVag"
      },
      "outputs": [],
      "source": [
        "\n",
        "encoder=LabelEncoder()\n",
        "encoder.fit(output)\n",
        "output=encoder.transform(output)"
      ]
    },
    {
      "cell_type": "markdown",
      "source": [
        "***Taking input & output for Training & Testing***"
      ],
      "metadata": {
        "id": "ztJwjKTjvE_z"
      }
    },
    {
      "cell_type": "code",
      "execution_count": null,
      "metadata": {
        "id": "Q0cI6XCXdH-N"
      },
      "outputs": [],
      "source": [
        "x_train,x_test,y_train,y_test=train_test_split(input,output,test_size=0.3,random_state=1)"
      ]
    },
    {
      "cell_type": "markdown",
      "source": [
        "***Checking all the possible algorithms and creating models and checking accuracy of that***"
      ],
      "metadata": {
        "id": "o8Zrfc_KvPCf"
      }
    },
    {
      "cell_type": "code",
      "execution_count": null,
      "metadata": {
        "id": "ToBHj_7jdUXU"
      },
      "outputs": [],
      "source": [
        "model1=KNeighborsClassifier(n_neighbors=3)\n",
        "model1.fit(x_train,y_train)\n",
        "y_pred1=model1.predict(x_test)"
      ]
    },
    {
      "cell_type": "code",
      "execution_count": null,
      "metadata": {
        "colab": {
          "base_uri": "https://localhost:8080/"
        },
        "id": "iKK2hBeMeQxa",
        "outputId": "45998857-9c87-4213-9c7d-2881bd2873dd"
      },
      "outputs": [
        {
          "output_type": "stream",
          "name": "stdout",
          "text": [
            "0.7516\n"
          ]
        }
      ],
      "source": [
        "print (accuracy_score(y_test,y_pred1))"
      ]
    },
    {
      "cell_type": "code",
      "execution_count": null,
      "metadata": {
        "id": "zoS6Jfj4fPUY"
      },
      "outputs": [],
      "source": [
        "model4=DecisionTreeClassifier(criterion=\"entropy\")\n",
        "model4.fit(x_train,y_train)\n",
        "y_pred4=model4.predict(x_test)"
      ]
    },
    {
      "cell_type": "code",
      "execution_count": null,
      "metadata": {
        "id": "LfJAYIT1feAB",
        "colab": {
          "base_uri": "https://localhost:8080/"
        },
        "outputId": "4154f6b4-e37a-4a0d-cddc-b07c97e2922d"
      },
      "outputs": [
        {
          "output_type": "stream",
          "name": "stdout",
          "text": [
            "0.7077333333333333\n"
          ]
        }
      ],
      "source": [
        "print (accuracy_score(y_test,y_pred4))"
      ]
    },
    {
      "cell_type": "code",
      "execution_count": null,
      "metadata": {
        "id": "rhcXR35wfwaT"
      },
      "outputs": [],
      "source": [
        "model5=RandomForestClassifier(criterion=\"entropy\")\n",
        "model5.fit(x_train,y_train)\n",
        "y_pred5=model5.predict(x_test)"
      ]
    },
    {
      "cell_type": "code",
      "execution_count": null,
      "metadata": {
        "id": "Bun4Q2FogEBa",
        "colab": {
          "base_uri": "https://localhost:8080/"
        },
        "outputId": "785770bd-7f00-4fe3-f23d-b18b1d641a68"
      },
      "outputs": [
        {
          "output_type": "stream",
          "name": "stdout",
          "text": [
            "0.8493333333333334\n"
          ]
        }
      ],
      "source": [
        "print (accuracy_score(y_test,y_pred5))"
      ]
    },
    {
      "cell_type": "code",
      "execution_count": null,
      "metadata": {
        "id": "f0ETwSFkgFvY"
      },
      "outputs": [],
      "source": [
        "model6=AdaBoostClassifier()\n",
        "model6.fit(x_train,y_train)\n",
        "y_pred6=model6.predict(x_test)"
      ]
    },
    {
      "cell_type": "code",
      "execution_count": null,
      "metadata": {
        "id": "7jRYOkzygT3A",
        "colab": {
          "base_uri": "https://localhost:8080/"
        },
        "outputId": "a5519b73-2299-4495-e544-98687ec3df42"
      },
      "outputs": [
        {
          "output_type": "stream",
          "name": "stdout",
          "text": [
            "0.8042666666666667\n"
          ]
        }
      ],
      "source": [
        "print (accuracy_score(y_test,y_pred6))"
      ]
    },
    {
      "cell_type": "code",
      "execution_count": null,
      "metadata": {
        "id": "U2Z44Emmgny8"
      },
      "outputs": [],
      "source": [
        "model7=XGBClassifier()\n",
        "model7.fit(x_train,y_train)\n",
        "y_pred7=model7.predict(x_test)"
      ]
    },
    {
      "cell_type": "code",
      "execution_count": null,
      "metadata": {
        "id": "ugTYYG6Ng5mR",
        "colab": {
          "base_uri": "https://localhost:8080/"
        },
        "outputId": "891443a2-19a3-478a-cd10-0ae07b9a309e"
      },
      "outputs": [
        {
          "output_type": "stream",
          "name": "stdout",
          "text": [
            "0.8428\n"
          ]
        }
      ],
      "source": [
        "print (accuracy_score(y_test,y_pred7))"
      ]
    },
    {
      "cell_type": "markdown",
      "source": [
        "***Tooks a better a accuracy model from Support Vector Classifiers with almost accuracy of 88% and choosed that for the prediction***"
      ],
      "metadata": {
        "id": "sXsnGaDmv7H6"
      }
    },
    {
      "cell_type": "code",
      "execution_count": null,
      "metadata": {
        "id": "cT0OvRX6eZeD"
      },
      "outputs": [],
      "source": [
        "model2=SVC(kernel=\"linear\")\n",
        "model2.fit(x_train,y_train)\n",
        "y_pred2=model2.predict(x_test)"
      ]
    },
    {
      "cell_type": "code",
      "execution_count": null,
      "metadata": {
        "id": "YvoeBTAheoQg",
        "colab": {
          "base_uri": "https://localhost:8080/"
        },
        "outputId": "0c538b53-0ced-460f-aa4f-01150d8bd409"
      },
      "outputs": [
        {
          "output_type": "stream",
          "name": "stdout",
          "text": [
            "0.8825333333333333\n"
          ]
        }
      ],
      "source": [
        "print (accuracy_score(y_test,y_pred2))"
      ]
    },
    {
      "cell_type": "code",
      "source": [
        "print (ConfusionMatrixDisplay.from_predictions(y_test,y_pred2))"
      ],
      "metadata": {
        "id": "v7Fsl01GvtAq",
        "colab": {
          "base_uri": "https://localhost:8080/",
          "height": 467
        },
        "outputId": "7e1408a2-35af-47d2-cfe0-cbae94ae65c9"
      },
      "execution_count": null,
      "outputs": [
        {
          "output_type": "stream",
          "name": "stdout",
          "text": [
            "<sklearn.metrics._plot.confusion_matrix.ConfusionMatrixDisplay object at 0x7b9128c06aa0>\n"
          ]
        },
        {
          "output_type": "display_data",
          "data": {
            "text/plain": [
              "<Figure size 640x480 with 2 Axes>"
            ],
            "image/png": "[encoded data removed]"
          },
          "metadata": {}
        }
      ]
    },
    {
      "cell_type": "code",
      "source": [
        "print (classification_report(y_test,y_pred2))"
      ],
      "metadata": {
        "id": "owR1ruVPv1-p",
        "colab": {
          "base_uri": "https://localhost:8080/"
        },
        "outputId": "bb58c1b9-b43e-470b-e64b-82e43e568abf"
      },
      "execution_count": null,
      "outputs": [
        {
          "output_type": "stream",
          "name": "stdout",
          "text": [
            "              precision    recall  f1-score   support\n",
            "\n",
            "           0       0.89      0.87      0.88      3785\n",
            "           1       0.87      0.90      0.88      3715\n",
            "\n",
            "    accuracy                           0.88      7500\n",
            "   macro avg       0.88      0.88      0.88      7500\n",
            "weighted avg       0.88      0.88      0.88      7500\n",
            "\n"
          ]
        }
      ]
    },
    {
      "cell_type": "markdown",
      "source": [
        "***Prediction the output by a sample input***\n"
      ],
      "metadata": {
        "id": "xhtRbf63wH9l"
      }
    },
    {
      "cell_type": "code",
      "source": [
        "prediction=model2.predict(vectorizer.transform([\"excellent movie\"]))\n",
        "prediction=encoder.inverse_transform(prediction)\n",
        "print (\"Reviewer rated this movie as,\",prediction.item())"
      ],
      "metadata": {
        "colab": {
          "base_uri": "https://localhost:8080/"
        },
        "id": "iXKQZ7gShuiM",
        "outputId": "774bf85d-f0a0-4c09-9021-fa3b6fab6ca5"
      },
      "execution_count": null,
      "outputs": [
        {
          "output_type": "stream",
          "name": "stdout",
          "text": [
            "Reviewer rated this movie as, positive\n"
          ]
        }
      ]
    }
  ],
  "metadata": {
    "colab": {
      "provenance": [],
      "mount_file_id": "1UigLmMoPaBIJ-QYkKbMGrWb-a8ci5ZZ_",
      "authorship_tag": "ABX9TyNXq6h4LN01+z90UWGB03Fo",
      "include_colab_link": true
    },
    "kernelspec": {
      "display_name": "Python 3",
      "name": "python3"
    },
    "language_info": {
      "name": "python"
    }
  },
  "nbformat": 4,
  "nbformat_minor": 0
}